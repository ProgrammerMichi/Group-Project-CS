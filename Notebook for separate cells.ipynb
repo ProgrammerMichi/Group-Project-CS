{
 "cells": [
  {
   "cell_type": "code",
   "execution_count": null,
   "metadata": {},
   "outputs": [],
   "source": []
  },
  {
   "cell_type": "code",
   "execution_count": 4,
   "metadata": {},
   "outputs": [
    {
     "ename": "TypeError",
     "evalue": "waszum() missing 1 required positional argument: 'michi'",
     "output_type": "error",
     "traceback": [
      "\u001b[0;31m---------------------------------------------------------------------------\u001b[0m",
      "\u001b[0;31mTypeError\u001b[0m                                 Traceback (most recent call last)",
      "Cell \u001b[0;32mIn[4], line 6\u001b[0m\n\u001b[1;32m      3\u001b[0m     gengi\u001b[38;5;241m=\u001b[39mmichi\n\u001b[1;32m      4\u001b[0m     \u001b[38;5;28;01mreturn\u001b[39;00m gengi\n\u001b[0;32m----> 6\u001b[0m waszum()\n",
      "\u001b[0;31mTypeError\u001b[0m: waszum() missing 1 required positional argument: 'michi'"
     ]
    }
   ],
   "source": [
    "michi = 24\n",
    "def waszum(michi):\n",
    "    gengi=michi\n",
    "    return gengi\n",
    "\n",
    "waszum()"
   ]
  },
  {
   "cell_type": "code",
   "execution_count": 5,
   "metadata": {},
   "outputs": [
    {
     "ename": "ModuleNotFoundError",
     "evalue": "No module named 'APIConnection'",
     "output_type": "error",
     "traceback": [
      "\u001b[0;31m---------------------------------------------------------------------------\u001b[0m",
      "\u001b[0;31mModuleNotFoundError\u001b[0m                       Traceback (most recent call last)",
      "Cell \u001b[0;32mIn[5], line 1\u001b[0m\n\u001b[0;32m----> 1\u001b[0m \u001b[38;5;28;01mfrom\u001b[39;00m \u001b[38;5;21;01mAPIConnection\u001b[39;00m \u001b[38;5;28;01mimport\u001b[39;00m TMDbAPIClient\n",
      "\u001b[0;31mModuleNotFoundError\u001b[0m: No module named 'APIConnection'"
     ]
    }
   ],
   "source": [
    "from APIConnection import TMDbAPIClient"
   ]
  },
  {
   "cell_type": "code",
   "execution_count": 13,
   "metadata": {},
   "outputs": [],
   "source": [
    "from tmdbv3api import TMDb, Movie, Genre\n",
    "\n",
    "tmdb = TMDb()\n",
    "tmdb.api_key = \"eb7ed2a4be7573ea9c99867e37d0a4ab\"\n",
    "\n",
    "\n",
    "class TMDbAPIClient:\n",
    "    def __init__(self, api_key=None):\n",
    "        self.tmdb = TMDb()\n",
    "\n",
    "        #The API_Key should be either implemented through an environment variable or streamlit/github secrets\n",
    "        self.tmdb.api_key = api_key\n",
    "        self.movie_api = Movie()\n",
    "        self.genre_api = Genre()\n",
    "\n",
    "\n",
    "    def search_movie_title(self, query):\n",
    "        #Looks for a movie title based on query\n",
    "        return self.movie_api.search(query)\n",
    "    \n",
    "    \n",
    "    def get_genres(self, movie_genre ):\n",
    "        #Looks for genres in API\n",
    "        genres = self.genre_api.popular()\n",
    "        return genres\n",
    "    \n",
    "    \n",
    "    def get_movie_by_genres(self, genre_id, page=1):\n",
    "        #Looks for movies according to genre\n",
    "        movies = self.movie_api.discover(page=page, with_genres=genre_id)\n",
    "        return movies\n",
    "    \n",
    "    \n",
    "    def search_movie_actors(self, movie_id):\n",
    "        #Gets actors of a movie based on movie id\n",
    "        movie_details = self.movie_api.details(movie_id)\n",
    "        return movie_details.get(\"cast\",[])\n",
    "    \n",
    "\n",
    "    def search_movie_length(self, min_length, max_length):\n",
    "        #Looks for a movie depending on length\n",
    "        moviesbeforefilter = self.movie_api.popular()\n",
    "        filtered_movies = [movie for movie in moviesbeforefilter\n",
    "                           if min_length <= movie[\"runtime\"] <= max_length]\n",
    "        return filtered_movies\n",
    "    \n",
    "        \n",
    "    def search_movie_by_keywords(self, keyword):\n",
    "        #Looks for a movie depending on keywords\n",
    "        return self.movie_api.keywords(keyword)\n",
    "    \n",
    "    \n",
    "    def get_movie_details(self, movie_id):\n",
    "        #Gets information to a film\n",
    "        return self.movie_api.details(movie_id)\n",
    "    \n",
    "    \n",
    "    def get_recommendations(self, movie_id):\n",
    "        #Generates a recommendation based on a movie\n",
    "        return self.movie_api.recommendations(movie_id)\n",
    "    \n",
    "    \n",
    "    def get_popular_movie(self):\n",
    "        #List of most popular films\n",
    "        return self.movie_api.popular()\n"
   ]
  },
  {
   "cell_type": "code",
   "execution_count": 15,
   "metadata": {},
   "outputs": [
    {
     "name": "stdout",
     "output_type": "stream",
     "text": [
      "Title: Ich einfach unverbesserlich - 6 Mini-Movies Collection\n",
      "Title: Despicable Me 4\n",
      "Title: Despicable Me\n",
      "Title: Despicable Me 2\n",
      "Title: Despicable Me 3\n",
      "Title: Ich einfach unvervesserlich - 3 Mini-Movies Collection\n"
     ]
    }
   ],
   "source": [
    "testuser = TMDbAPIClient(\"eb7ed2a4be7573ea9c99867e37d0a4ab\")\n",
    "search_query = \"Ich einfach unverbesserlich\"\n",
    "movies = testuser.search_movie_title(search_query)\n",
    "\n",
    "for movie in movies:\n",
    "    print(f\"Title: {movie[\"title\"]}\")"
   ]
  },
  {
   "cell_type": "code",
   "execution_count": null,
   "metadata": {},
   "outputs": [],
   "source": []
  }
 ],
 "metadata": {
  "kernelspec": {
   "display_name": "base",
   "language": "python",
   "name": "python3"
  },
  "language_info": {
   "codemirror_mode": {
    "name": "ipython",
    "version": 3
   },
   "file_extension": ".py",
   "mimetype": "text/x-python",
   "name": "python",
   "nbconvert_exporter": "python",
   "pygments_lexer": "ipython3",
   "version": "3.12.4"
  }
 },
 "nbformat": 4,
 "nbformat_minor": 4
}
