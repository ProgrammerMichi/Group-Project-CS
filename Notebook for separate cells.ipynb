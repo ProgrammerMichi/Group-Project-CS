{
 "cells": [
  {
   "cell_type": "code",
   "execution_count": null,
   "metadata": {},
   "outputs": [],
   "source": []
  },
  {
   "cell_type": "code",
   "execution_count": 66,
   "metadata": {},
   "outputs": [
    {
     "data": {
      "text/plain": [
       "24"
      ]
     },
     "execution_count": 66,
     "metadata": {},
     "output_type": "execute_result"
    }
   ],
   "source": [
    "michi = 24\n",
    "def waszum():\n",
    "    return michi\n",
    "\n",
    "waszum()"
   ]
  },
  {
   "cell_type": "code",
   "execution_count": 5,
   "metadata": {},
   "outputs": [
    {
     "ename": "ModuleNotFoundError",
     "evalue": "No module named 'APIConnection'",
     "output_type": "error",
     "traceback": [
      "\u001b[0;31m---------------------------------------------------------------------------\u001b[0m",
      "\u001b[0;31mModuleNotFoundError\u001b[0m                       Traceback (most recent call last)",
      "Cell \u001b[0;32mIn[5], line 1\u001b[0m\n\u001b[0;32m----> 1\u001b[0m \u001b[38;5;28;01mfrom\u001b[39;00m \u001b[38;5;21;01mAPIConnection\u001b[39;00m \u001b[38;5;28;01mimport\u001b[39;00m TMDbAPIClient\n",
      "\u001b[0;31mModuleNotFoundError\u001b[0m: No module named 'APIConnection'"
     ]
    }
   ],
   "source": [
    "from APIConnection import TMDbAPIClient"
   ]
  },
  {
   "cell_type": "code",
   "execution_count": 4,
   "metadata": {},
   "outputs": [
    {
     "ename": "AttributeError",
     "evalue": "'AsObj' object has no attribute 'language'",
     "output_type": "error",
     "traceback": [
      "\u001b[0;31m---------------------------------------------------------------------------\u001b[0m",
      "\u001b[0;31mAttributeError\u001b[0m                            Traceback (most recent call last)",
      "Cell \u001b[0;32mIn[4], line 6\u001b[0m\n\u001b[1;32m      3\u001b[0m movies \u001b[38;5;241m=\u001b[39m testuser\u001b[38;5;241m.\u001b[39msearch_movie_title(search_query)\n\u001b[1;32m      5\u001b[0m \u001b[38;5;28;01mfor\u001b[39;00m movie \u001b[38;5;129;01min\u001b[39;00m movies:\n\u001b[0;32m----> 6\u001b[0m     \u001b[38;5;28mprint\u001b[39m(\u001b[38;5;124mf\u001b[39m\u001b[38;5;124m\"\u001b[39m\u001b[38;5;124mTitle: \u001b[39m\u001b[38;5;132;01m{\u001b[39;00mmovie[\u001b[38;5;124m\"\u001b[39m\u001b[38;5;124mtitle\u001b[39m\u001b[38;5;124m\"\u001b[39m]\u001b[38;5;132;01m}\u001b[39;00m\u001b[38;5;124m \u001b[39m\u001b[38;5;130;01m\\n\u001b[39;00m\u001b[38;5;124m \u001b[39m\u001b[38;5;132;01m{\u001b[39;00mmovie[\u001b[38;5;124m\"\u001b[39m\u001b[38;5;124mlanguage\u001b[39m\u001b[38;5;124m\"\u001b[39m]\u001b[38;5;132;01m}\u001b[39;00m\u001b[38;5;124m\"\u001b[39m)\n",
      "File \u001b[0;32m/opt/anaconda3/lib/python3.12/site-packages/tmdbv3api/as_obj.py:47\u001b[0m, in \u001b[0;36mAsObj.__getitem__\u001b[0;34m(self, key)\u001b[0m\n\u001b[1;32m     45\u001b[0m     \u001b[38;5;28;01mreturn\u001b[39;00m \u001b[38;5;28mself\u001b[39m\u001b[38;5;241m.\u001b[39m_obj_list[key]\n\u001b[1;32m     46\u001b[0m \u001b[38;5;28;01melse\u001b[39;00m:\n\u001b[0;32m---> 47\u001b[0m     \u001b[38;5;28;01mreturn\u001b[39;00m \u001b[38;5;28mgetattr\u001b[39m(\u001b[38;5;28mself\u001b[39m, key)\n",
      "\u001b[0;31mAttributeError\u001b[0m: 'AsObj' object has no attribute 'language'"
     ]
    }
   ],
   "source": [
    "testuser = TMDbAPIClient(\"eb7ed2a4be7573ea9c99867e37d0a4ab\")\n",
    "search_query = \"Ich einfach unverbesserlich\"\n",
    "movies = testuser.search_movie_title(search_query)\n",
    "\n",
    "for movie in movies:\n",
    "    print(f\"Title: {movie[\"title\"]} \\n {movie[\"language\"]}\")"
   ]
  },
  {
   "cell_type": "code",
   "execution_count": 6,
   "metadata": {},
   "outputs": [
    {
     "name": "stdout",
     "output_type": "stream",
     "text": [
      "Help on class Discover in module tmdbv3api.objs.discover:\n",
      "\n",
      "class Discover(tmdbv3api.tmdb.TMDb)\n",
      " |  Discover(obj_cached=True, session=None)\n",
      " |\n",
      " |  Method resolution order:\n",
      " |      Discover\n",
      " |      tmdbv3api.tmdb.TMDb\n",
      " |      builtins.object\n",
      " |\n",
      " |  Methods defined here:\n",
      " |\n",
      " |  discover_movies(self, params)\n",
      " |      Discover movies by different types of data like average rating, number of votes, genres and certifications.\n",
      " |      :param params: dict\n",
      " |      :return:\n",
      " |\n",
      " |  discover_tv_shows(self, params)\n",
      " |      Discover TV shows by different types of data like average rating, number of votes, genres,\n",
      " |      the network they aired on and air dates.\n",
      " |      :param params: dict\n",
      " |      :return:\n",
      " |\n",
      " |  ----------------------------------------------------------------------\n",
      " |  Methods inherited from tmdbv3api.tmdb.TMDb:\n",
      " |\n",
      " |  __init__(self, obj_cached=True, session=None)\n",
      " |      Initialize self.  See help(type(self)) for accurate signature.\n",
      " |\n",
      " |  cache_clear(self)\n",
      " |\n",
      " |  ----------------------------------------------------------------------\n",
      " |  Static methods inherited from tmdbv3api.tmdb.TMDb:\n",
      " |\n",
      " |  cached_request(method, url, data, json, proxies)\n",
      " |\n",
      " |  ----------------------------------------------------------------------\n",
      " |  Readonly properties inherited from tmdbv3api.tmdb.TMDb:\n",
      " |\n",
      " |  has_session\n",
      " |\n",
      " |  page\n",
      " |\n",
      " |  total_pages\n",
      " |\n",
      " |  total_results\n",
      " |\n",
      " |  ----------------------------------------------------------------------\n",
      " |  Data descriptors inherited from tmdbv3api.tmdb.TMDb:\n",
      " |\n",
      " |  __dict__\n",
      " |      dictionary for instance variables\n",
      " |\n",
      " |  __weakref__\n",
      " |      list of weak references to the object\n",
      " |\n",
      " |  api_key\n",
      " |\n",
      " |  cache\n",
      " |\n",
      " |  debug\n",
      " |\n",
      " |  language\n",
      " |\n",
      " |  proxies\n",
      " |\n",
      " |  session_id\n",
      " |\n",
      " |  wait_on_rate_limit\n",
      " |\n",
      " |  ----------------------------------------------------------------------\n",
      " |  Data and other attributes inherited from tmdbv3api.tmdb.TMDb:\n",
      " |\n",
      " |  REQUEST_CACHE_MAXSIZE = None\n",
      " |\n",
      " |  TMDB_API_KEY = 'TMDB_API_KEY'\n",
      " |\n",
      " |  TMDB_CACHE_ENABLED = 'TMDB_CACHE_ENABLED'\n",
      " |\n",
      " |  TMDB_DEBUG_ENABLED = 'TMDB_DEBUG_ENABLED'\n",
      " |\n",
      " |  TMDB_LANGUAGE = 'TMDB_LANGUAGE'\n",
      " |\n",
      " |  TMDB_PROXIES = 'TMDB_PROXIES'\n",
      " |\n",
      " |  TMDB_SESSION_ID = 'TMDB_SESSION_ID'\n",
      " |\n",
      " |  TMDB_WAIT_ON_RATE_LIMIT = 'TMDB_WAIT_ON_RATE_LIMIT'\n",
      "\n"
     ]
    }
   ],
   "source": [
    "help(Discover)"
   ]
  },
  {
   "cell_type": "code",
   "execution_count": null,
   "metadata": {},
   "outputs": [
    {
     "ename": "NameError",
     "evalue": "name 'Discover_movies' is not defined",
     "output_type": "error",
     "traceback": [
      "\u001b[0;31m---------------------------------------------------------------------------\u001b[0m",
      "\u001b[0;31mNameError\u001b[0m                                 Traceback (most recent call last)",
      "Cell \u001b[0;32mIn[8], line 1\u001b[0m\n\u001b[0;32m----> 1\u001b[0m \u001b[38;5;28mprint\u001b[39m(\u001b[38;5;28mdir\u001b[39m(Discover_movies))\n",
      "\u001b[0;31mNameError\u001b[0m: name 'Discover_movies' is not defined"
     ]
    }
   ],
   "source": [
    "print(dir(discover_movies))"
   ]
  },
  {
   "cell_type": "code",
   "execution_count": 31,
   "metadata": {},
   "outputs": [
    {
     "ename": "TypeError",
     "evalue": "'Person' object is not subscriptable",
     "output_type": "error",
     "traceback": [
      "\u001b[0;31m---------------------------------------------------------------------------\u001b[0m",
      "\u001b[0;31mTypeError\u001b[0m                                 Traceback (most recent call last)",
      "Cell \u001b[0;32mIn[31], line 5\u001b[0m\n\u001b[1;32m      3\u001b[0m actor \u001b[38;5;241m=\u001b[39m Person()\n\u001b[1;32m      4\u001b[0m \u001b[38;5;28;01mif\u001b[39;00m actor:\n\u001b[0;32m----> 5\u001b[0m     actor_id \u001b[38;5;241m=\u001b[39m actor[\u001b[38;5;241m0\u001b[39m][\u001b[38;5;124m\"\u001b[39m\u001b[38;5;124mid\u001b[39m\u001b[38;5;124m\"\u001b[39m]\n\u001b[1;32m      6\u001b[0m     \u001b[38;5;28mprint\u001b[39m(actor_id)\n\u001b[1;32m      7\u001b[0m \u001b[38;5;28;01mif\u001b[39;00m \u001b[38;5;129;01mnot\u001b[39;00m actor:\n",
      "\u001b[0;31mTypeError\u001b[0m: 'Person' object is not subscriptable"
     ]
    }
   ],
   "source": [
    "from tmdbv3api import Person\n",
    "\n",
    "actor = Person()\n",
    "if actor:\n",
    "    actor_id = actor[0][\"id\"]\n",
    "    print(actor_id)\n",
    "if not actor:\n",
    "    print(\"no actors found\")\n",
    "\n"
   ]
  },
  {
   "cell_type": "code",
   "execution_count": 56,
   "metadata": {},
   "outputs": [],
   "source": [
    "import streamlit as st\n",
    "from tmdbv3api import TMDb, Movie, Genre, Discover, Person\n",
    "\n",
    "class TMDbAPIClient:\n",
    "    def __init__(self, api_key=\"eb7ed2a4be7573ea9c99867e37d0a4ab\"):\n",
    "        self.tmdb = TMDb()\n",
    "        self.tmdb.api_key = api_key\n",
    "        self.movie = Movie()\n",
    "        self.genre = Genre()\n",
    "        self.person = Person()\n",
    "        self.discover = Discover()\n",
    "\n",
    "\n",
    "    def search_movie_title(self, query):\n",
    "        #Looks for a movie title based on query\n",
    "        return self.movie.search(query)\n",
    "    \n",
    "    \n",
    "    def get_genres(self, x):\n",
    "        #Create a list with only genre names\n",
    "        genres = self.genre.movie_list()\n",
    "        genre_names = [genre[\"name\"] for genre in genres]\n",
    "        return genre_names\n",
    "    \n",
    "    def get_genre_id(self, genre_name):\n",
    "        #Gets Genre id belonging to a certain genre\n",
    "        genres = self.genre.movie_list()\n",
    "        for genre in genres:\n",
    "            if genre[\"name\"].lower() == genre_name.lower():\n",
    "                return genre[\"id\"]\n",
    "        return None\n",
    "    \n",
    "    \n",
    "    \n",
    "    def get_movie_by_genre_id(self, genre_name, page=1,):\n",
    "        #Looks for movies according to genre id\n",
    "        genre_id = self.get_genre_id(genre_name)\n",
    "        \n",
    "\n",
    "        movies = self.discover.discover_movies({\n",
    "            \"with_genres\": genre_id,\n",
    "            \"page\": page,\n",
    "            \"with_original_language\": \"en\",\n",
    "            \"sort_by\": \"vote_average.desc\",\n",
    "            \"vote_count.gte\" : 1000\n",
    "    \n",
    "        })\n",
    "        return movies\n",
    "        \n",
    "    \n",
    "    \n",
    "    def search_actors(self, movie_id):\n",
    "        #Gets actors of a movie based on movie id\n",
    "        movie_details = self.movie.details(movie_id)\n",
    "        return movie_details.get(\"cast\",[])\n",
    "    \n",
    "    def search_actor_id(self, actorname):\n",
    "        #Gets Actor ID\n",
    "        actor = self.person.search(actorname)\n",
    "        if actor:\n",
    "            actor_id = actor[0][\"id\"]\n",
    "            return actor_id\n",
    "        if not actor:\n",
    "            return(\"no actors found\")\n",
    "        \n",
    "    def search_movie_by_actor_id(self,actorname, page = 1):\n",
    "        actor_id = self.search_actor_id(actorname)\n",
    "        #Gets movie based on Actor ID\n",
    "        actormovies = self.discover.discover_movies({\n",
    "            \"with_cast\": actor_id,\n",
    "            \"sort_by\": \"vote_average_desc.\",\n",
    "            \"page\": page,\n",
    "            \"with_original_language\": \"en\"\n",
    "        })\n",
    "        return actormovies\n",
    "\n",
    "    def search_movie_length(self, min_length, max_length):\n",
    "        #Looks for a movie depending on length\n",
    "        moviesbeforefilter = self.movie.popular()\n",
    "        filtered_movies = [movie for movie in moviesbeforefilter\n",
    "                           if min_length <= movie[\"runtime\"] <= max_length]\n",
    "        return filtered_movies\n",
    "    \n",
    "        \n",
    "    def search_movie_by_keywords(self, keyword):\n",
    "        #Looks for a movie depending on keywords\n",
    "        return self.movie.keywords(keyword)\n",
    "    \n",
    "    \n",
    "    def get_movie_details(self, movie_id):\n",
    "        #Gets information to a film\n",
    "        return self.movie.details(movie_id)\n",
    "    \n",
    "    \n",
    "    def get_recommendations(self, movie_id):\n",
    "        #Generates a recommendation based on a movie\n",
    "        return self.movie.recommendations(movie_id)\n",
    "    \n",
    "    \n",
    "    def get_popular_movie(self):\n",
    "        #List of most popular films\n",
    "        return self.movie.popular()"
   ]
  },
  {
   "cell_type": "code",
   "execution_count": 57,
   "metadata": {},
   "outputs": [],
   "source": [
    "test = TMDbAPIClient()"
   ]
  },
  {
   "cell_type": "code",
   "execution_count": 63,
   "metadata": {},
   "outputs": [
    {
     "ename": "TypeError",
     "evalue": "attribute name must be string, not 'int'",
     "output_type": "error",
     "traceback": [
      "\u001b[0;31m---------------------------------------------------------------------------\u001b[0m",
      "\u001b[0;31mTypeError\u001b[0m                                 Traceback (most recent call last)",
      "Cell \u001b[0;32mIn[63], line 1\u001b[0m\n\u001b[0;32m----> 1\u001b[0m moviefound \u001b[38;5;241m=\u001b[39m test\u001b[38;5;241m.\u001b[39msearch_movie_by_actor_id(\u001b[38;5;124m\"\u001b[39m\u001b[38;5;124mChris_\u001b[39m\u001b[38;5;124m\"\u001b[39m)\n\u001b[1;32m      2\u001b[0m \u001b[38;5;28;01mfor\u001b[39;00m movie \u001b[38;5;129;01min\u001b[39;00m moviefound:\n\u001b[1;32m      3\u001b[0m     \u001b[38;5;28mprint\u001b[39m(\u001b[38;5;124mf\u001b[39m\u001b[38;5;124m\"\u001b[39m\u001b[38;5;132;01m{\u001b[39;00mmovie[\u001b[38;5;124m\"\u001b[39m\u001b[38;5;124mtitle\u001b[39m\u001b[38;5;124m\"\u001b[39m]\u001b[38;5;132;01m}\u001b[39;00m\u001b[38;5;124m\"\u001b[39m)\n",
      "Cell \u001b[0;32mIn[56], line 67\u001b[0m, in \u001b[0;36mTMDbAPIClient.search_movie_by_actor_id\u001b[0;34m(self, actorname, page)\u001b[0m\n\u001b[1;32m     66\u001b[0m \u001b[38;5;28;01mdef\u001b[39;00m \u001b[38;5;21msearch_movie_by_actor_id\u001b[39m(\u001b[38;5;28mself\u001b[39m,actorname, page \u001b[38;5;241m=\u001b[39m \u001b[38;5;241m1\u001b[39m):\n\u001b[0;32m---> 67\u001b[0m     actor_id \u001b[38;5;241m=\u001b[39m \u001b[38;5;28mself\u001b[39m\u001b[38;5;241m.\u001b[39msearch_actor_id(actorname)\n\u001b[1;32m     68\u001b[0m     \u001b[38;5;66;03m#Gets movie based on Actor ID\u001b[39;00m\n\u001b[1;32m     69\u001b[0m     actormovies \u001b[38;5;241m=\u001b[39m \u001b[38;5;28mself\u001b[39m\u001b[38;5;241m.\u001b[39mdiscover\u001b[38;5;241m.\u001b[39mdiscover_movies({\n\u001b[1;32m     70\u001b[0m         \u001b[38;5;124m\"\u001b[39m\u001b[38;5;124mwith_cast\u001b[39m\u001b[38;5;124m\"\u001b[39m: actor_id,\n\u001b[1;32m     71\u001b[0m         \u001b[38;5;124m\"\u001b[39m\u001b[38;5;124msort_by\u001b[39m\u001b[38;5;124m\"\u001b[39m: \u001b[38;5;124m\"\u001b[39m\u001b[38;5;124mvote_average_desc.\u001b[39m\u001b[38;5;124m\"\u001b[39m,\n\u001b[1;32m     72\u001b[0m         \u001b[38;5;124m\"\u001b[39m\u001b[38;5;124mpage\u001b[39m\u001b[38;5;124m\"\u001b[39m: page,\n\u001b[1;32m     73\u001b[0m         \u001b[38;5;124m\"\u001b[39m\u001b[38;5;124mwith_original_language\u001b[39m\u001b[38;5;124m\"\u001b[39m: \u001b[38;5;124m\"\u001b[39m\u001b[38;5;124men\u001b[39m\u001b[38;5;124m\"\u001b[39m\n\u001b[1;32m     74\u001b[0m     })\n",
      "Cell \u001b[0;32mIn[56], line 61\u001b[0m, in \u001b[0;36mTMDbAPIClient.search_actor_id\u001b[0;34m(self, actorname)\u001b[0m\n\u001b[1;32m     59\u001b[0m actor \u001b[38;5;241m=\u001b[39m \u001b[38;5;28mself\u001b[39m\u001b[38;5;241m.\u001b[39mperson\u001b[38;5;241m.\u001b[39msearch(actorname)\n\u001b[1;32m     60\u001b[0m \u001b[38;5;28;01mif\u001b[39;00m actor:\n\u001b[0;32m---> 61\u001b[0m     actor_id \u001b[38;5;241m=\u001b[39m actor[\u001b[38;5;241m0\u001b[39m][\u001b[38;5;124m\"\u001b[39m\u001b[38;5;124mid\u001b[39m\u001b[38;5;124m\"\u001b[39m]\n\u001b[1;32m     62\u001b[0m     \u001b[38;5;28;01mreturn\u001b[39;00m actor_id\n\u001b[1;32m     63\u001b[0m \u001b[38;5;28;01mif\u001b[39;00m \u001b[38;5;129;01mnot\u001b[39;00m actor:\n",
      "File \u001b[0;32m/opt/anaconda3/lib/python3.12/site-packages/tmdbv3api/as_obj.py:47\u001b[0m, in \u001b[0;36mAsObj.__getitem__\u001b[0;34m(self, key)\u001b[0m\n\u001b[1;32m     45\u001b[0m     \u001b[38;5;28;01mreturn\u001b[39;00m \u001b[38;5;28mself\u001b[39m\u001b[38;5;241m.\u001b[39m_obj_list[key]\n\u001b[1;32m     46\u001b[0m \u001b[38;5;28;01melse\u001b[39;00m:\n\u001b[0;32m---> 47\u001b[0m     \u001b[38;5;28;01mreturn\u001b[39;00m \u001b[38;5;28mgetattr\u001b[39m(\u001b[38;5;28mself\u001b[39m, key)\n",
      "\u001b[0;31mTypeError\u001b[0m: attribute name must be string, not 'int'"
     ]
    }
   ],
   "source": [
    "moviefound = test.search_movie_by_actor_id(\"Chris_\")\n",
    "for movie in moviefound:\n",
    "    print(f\"{movie[\"title\"]}\")"
   ]
  },
  {
   "cell_type": "code",
   "execution_count": 101,
   "metadata": {},
   "outputs": [],
   "source": [
    "\n",
    "import streamlit as st\n",
    "from tmdbv3api import TMDb, Movie, Genre, Discover, Person\n",
    "\n",
    "class TMDbAPIClient:\n",
    "    def __init__(self, api_key=\"eb7ed2a4be7573ea9c99867e37d0a4ab\"):\n",
    "        self.tmdb = TMDb()\n",
    "        self.tmdb.api_key = api_key\n",
    "        self.movie = Movie()\n",
    "        self.genre = Genre()\n",
    "        self.person = Person()\n",
    "        self.discover = Discover()\n",
    "\n",
    "\n",
    "    def search_movie_title(self, query):\n",
    "        #Looks for a movie title based on query\n",
    "        return self.movie.search(query)\n",
    "    \n",
    "    \n",
    "    def get_genres(self, x):\n",
    "        #Create a list with only genre names\n",
    "        genres = self.genre.movie_list()\n",
    "        genre_names = [genre[\"name\"] for genre in genres]\n",
    "        return genre_names\n",
    "    \n",
    "    def get_genre_id(self, genre_name):\n",
    "        #Gets Genre id belonging to a certain genre\n",
    "        genres = self.genre.movie_list()\n",
    "        for genre in genres:\n",
    "            if genre[\"name\"].lower() == genre_name.lower():\n",
    "                return genre[\"id\"]\n",
    "        return None\n",
    "    \n",
    "    \n",
    "    \n",
    "    def get_movie_by_genre_id(self, genre_name, page=10,):\n",
    "        #Looks for movies according to genre id\n",
    "        genre_id = self.get_genre_id(genre_name)\n",
    "        \n",
    "\n",
    "        movies = self.discover.discover_movies({\n",
    "            \"with_genres\": genre_id,\n",
    "            \"page\": page,\n",
    "            \"with_original_language\": \"en\",\n",
    "            \"sort_by\": \"vote_average.desc\",\n",
    "            \"vote_count.gte\" : 1000\n",
    "    \n",
    "        })\n",
    "        return movies\n",
    "        \n",
    "    \n",
    "    \n",
    "    def search_actors(self, movie_id):\n",
    "        #Gets actors of a movie based on movie id\n",
    "        movie_details = self.movie.details(movie_id)\n",
    "        return movie_details.get(\"cast\",[])\n",
    "    \n",
    "    def search_actor_id(self, actorname):\n",
    "        #Gets Actor ID\n",
    "        actor = self.person.search(actorname)\n",
    "        if actor:\n",
    "            actor_id = actor[0][\"id\"]\n",
    "            return actor_id\n",
    "        if not actor:\n",
    "            return(\"no actors found\")\n",
    "        \n",
    "    def search_movie_by_actor_id(self,actorname, page = 1):\n",
    "        actor_id = self.search_actor_id(actorname)\n",
    "        #Gets movie based on Actor ID\n",
    "        actormovies = self.discover.discover_movies({\n",
    "            \"with_cast\": actor_id,\n",
    "            \"sort_by\": \"vote_average_desc.\",\n",
    "            \"page\": page,\n",
    "            \"with_original_language\": \"en\"\n",
    "        })\n",
    "        return actormovies\n",
    "\n",
    "    def search_movie_length(self, min_length, max_length):\n",
    "        #Looks for a movie depending on length\n",
    "        moviesbeforefilter = self.movie.popular()\n",
    "        filtered_movies = [movie for movie in moviesbeforefilter\n",
    "                           if min_length <= movie[\"runtime\"] <= max_length]\n",
    "        return filtered_movies\n",
    "    \n",
    "        \n",
    "    def search_movie_by_keywords(self, keyword):\n",
    "        #Looks for a movie depending on keywords\n",
    "        return self.movie.keywords(keyword)\n",
    "    \n",
    "    \n",
    "    def get_movie_details(self, movie_id):\n",
    "        #Gets information to a film\n",
    "        return self.movie.details(movie_id)\n",
    "    \n",
    "    \n",
    "    def get_recommendations(self, movie_id):\n",
    "        #Generates a recommendation based on a movie\n",
    "        return self.movie.recommendations(movie_id)\n",
    "    \n",
    "    \n",
    "    def get_popular_movie(self):\n",
    "        #List of most popular films\n",
    "        return self.movie.popular()\n",
    "\n",
    "\n",
    "\n"
   ]
  },
  {
   "cell_type": "code",
   "execution_count": 80,
   "metadata": {},
   "outputs": [],
   "source": [
    "test = TMDbAPIClient()\n"
   ]
  },
  {
   "cell_type": "code",
   "execution_count": null,
   "metadata": {},
   "outputs": [
    {
     "name": "stdout",
     "output_type": "stream",
     "text": [
      "16828\n"
     ]
    }
   ],
   "source": [
    "actor = str(test.person.search(\"Chris Evans\"))\n"
   ]
  },
  {
   "cell_type": "code",
   "execution_count": 76,
   "metadata": {},
   "outputs": [
    {
     "data": {
      "text/plain": [
       "{'page': 1, 'results': [{'adult': False, 'backdrop_path': '/dvBCdCohwWbsP5qAaglOXagDMtk.jpg', 'genre_ids': [28, 35, 878], 'id': 533535, 'original_language': 'en', 'original_title': 'Deadpool & Wolverine', 'overview': 'A listless Wade Wilson toils away in civilian life with his days as the morally flexible mercenary, Deadpool, behind him. But when his homeworld faces an existential threat, Wade must reluctantly suit-up again with an even more reluctant Wolverine.', 'popularity': 886.969, 'poster_path': '/8cdWjvZQUExUUTzyp4t6EDMubfO.jpg', 'release_date': '2024-07-24', 'title': 'Deadpool & Wolverine', 'video': False, 'vote_average': 7.67, 'vote_count': 5815}, {'adult': False, 'backdrop_path': '/rOmUuQEZfPXglwFs5ELLLUDKodL.jpg', 'genre_ids': [28, 35, 14], 'id': 845781, 'original_language': 'en', 'original_title': 'Red One', 'overview': \"After Santa Claus (codename: Red One) is kidnapped, the North Pole's Head of Security must team up with the world's most infamous tracker in a globe-trotting, action-packed mission to save Christmas.\", 'popularity': 839.657, 'poster_path': '/cdqLnri3NEGcmfnqwk2TSIYtddg.jpg', 'release_date': '2024-10-31', 'title': 'Red One', 'video': False, 'vote_average': 6.6, 'vote_count': 219}, {'adult': False, 'backdrop_path': '/mDfJG3LC3Dqb67AZ52x3Z0jU0uB.jpg', 'genre_ids': [12, 28, 878], 'id': 299536, 'original_language': 'en', 'original_title': 'Avengers: Infinity War', 'overview': 'As the Avengers and their allies have continued to protect the world from threats too large for any one hero to handle, a new danger has emerged from the cosmic shadows: Thanos. A despot of intergalactic infamy, his goal is to collect all six Infinity Stones, artifacts of unimaginable power, and use them to inflict his twisted will on all of reality. Everything the Avengers have fought for has led up to this moment - the fate of Earth and existence itself has never been more uncertain.', 'popularity': 178.414, 'poster_path': '/7WsyChQLEftFiDOVTGkv3hFpyyt.jpg', 'release_date': '2018-04-25', 'title': 'Avengers: Infinity War', 'video': False, 'vote_average': 8.243, 'vote_count': 29780}, {'adult': False, 'backdrop_path': '/9BBTo63ANSmhC4e6r62OJFuK2GL.jpg', 'genre_ids': [878, 28, 12], 'id': 24428, 'original_language': 'en', 'original_title': 'The Avengers', 'overview': 'When an unexpected enemy emerges and threatens global safety and security, Nick Fury, director of the international peacekeeping agency known as S.H.I.E.L.D., finds himself in need of a team to pull the world back from the brink of disaster. Spanning the globe, a daring recruitment effort begins!', 'popularity': 127.291, 'poster_path': '/RYMX2wcKCBAr24UyPD7xwmjaTn.jpg', 'release_date': '2012-04-25', 'title': 'The Avengers', 'video': False, 'vote_average': 7.723, 'vote_count': 30805}, {'adult': False, 'backdrop_path': '/7RyHsO4yDXtBv1zUU3mTpHeQ0d5.jpg', 'genre_ids': [12, 878, 28], 'id': 299534, 'original_language': 'en', 'original_title': 'Avengers: Endgame', 'overview': \"After the devastating events of Avengers: Infinity War, the universe is in ruins due to the efforts of the Mad Titan, Thanos. With the help of remaining allies, the Avengers must assemble once more in order to undo Thanos' actions and restore order to the universe once and for all, no matter what consequences may be in store.\", 'popularity': 114.04, 'poster_path': '/or06FN3Dka5tukK1e9sl16pB3iy.jpg', 'release_date': '2019-04-24', 'title': 'Avengers: Endgame', 'video': False, 'vote_average': 8.2, 'vote_count': 25651}, {'adult': False, 'backdrop_path': '/b9UCfDzwiWw7mIFsIQR9ZJUeh7q.jpg', 'genre_ids': [28, 35, 10749], 'id': 868759, 'original_language': 'en', 'original_title': 'Ghosted', 'overview': \"Salt-of-the-earth Cole falls head over heels for enigmatic Sadie—but then makes the shocking discovery that she's a secret agent. Before they can decide on a second date, Cole and Sadie are swept away on an international adventure to save the world.\", 'popularity': 96.541, 'poster_path': '/liLN69YgoovHVgmlHJ876PKi5Yi.jpg', 'release_date': '2023-04-18', 'title': 'Ghosted', 'video': False, 'vote_average': 6.9, 'vote_count': 1786}, {'adult': False, 'backdrop_path': '/wdwcOBMkt3zmPQuEMxB3FUtMio2.jpg', 'genre_ids': [12, 28, 878], 'id': 271110, 'original_language': 'en', 'original_title': 'Captain America: Civil War', 'overview': 'Following the events of Age of Ultron, the collective governments of the world pass an act designed to regulate all superhuman activity. This polarizes opinion amongst the Avengers, causing two factions to side with Iron Man or Captain America, which causes an epic battle between former allies.', 'popularity': 95.427, 'poster_path': '/rAGiXaUfPzY7CDEyNKUofk3Kw2e.jpg', 'release_date': '2016-04-27', 'title': 'Captain America: Civil War', 'video': False, 'vote_average': 7.4, 'vote_count': 22654}, {'adult': False, 'backdrop_path': '/fn4n6uOYcB6Uh89nbNPoU2w80RV.jpg', 'genre_ids': [28, 12, 878, 18], 'id': 315635, 'original_language': 'en', 'original_title': 'Spider-Man: Homecoming', 'overview': 'Following the events of Captain America: Civil War, Peter Parker, with the help of his mentor Tony Stark, tries to balance his life as an ordinary high school student in Queens, New York City, with fighting crime as his superhero alter ego Spider-Man as a new threat, the Vulture, emerges.', 'popularity': 93.784, 'poster_path': '/c24sv2weTHPsmDa7jEMN0m2P3RT.jpg', 'release_date': '2017-07-05', 'title': 'Spider-Man: Homecoming', 'video': False, 'vote_average': 7.334, 'vote_count': 21766}, {'adult': False, 'backdrop_path': '/6YwkGolwdOMNpbTOmLjoehlVWs5.jpg', 'genre_ids': [28, 12, 878], 'id': 99861, 'original_language': 'en', 'original_title': 'Avengers: Age of Ultron', 'overview': 'When Tony Stark tries to jumpstart a dormant peacekeeping program, things go awry and Earth’s Mightiest Heroes are put to the ultimate test as the fate of the planet hangs in the balance. As the villainous Ultron emerges, it is up to The Avengers to stop him from enacting his terrible plans, and soon uneasy alliances and unexpected action pave the way for an epic and unique global adventure.', 'popularity': 84.468, 'poster_path': '/4ssDuvEDkSArWEdyBl2X5EHvYKU.jpg', 'release_date': '2015-04-22', 'title': 'Avengers: Age of Ultron', 'video': False, 'vote_average': 7.274, 'vote_count': 22956}, {'adult': False, 'backdrop_path': '/7py8kUCYaOdFn1TfVS87BDBySOz.jpg', 'genre_ids': [35, 12, 878], 'id': 550988, 'original_language': 'en', 'original_title': 'Free Guy', 'overview': \"A bank teller discovers he is actually a background player in an open-world video game, and decides to become the hero of his own story. Now, in a world where there are no limits, he is determined to be the guy who saves his world his way before it's too late.\", 'popularity': 76.359, 'poster_path': '/xmbU4JTUm8rsdtn7Y3Fcm30GpeT.jpg', 'release_date': '2021-08-11', 'title': 'Free Guy', 'video': False, 'vote_average': 7.491, 'vote_count': 8758}, {'adult': False, 'backdrop_path': '/4HWAQu28e2yaWrtupFPGFkdNU7V.jpg', 'genre_ids': [35, 80, 9648], 'id': 546554, 'original_language': 'en', 'original_title': 'Knives Out', 'overview': \"When renowned crime novelist Harlan Thrombey is found dead at his estate just after his 85th birthday, the inquisitive and debonair Detective Benoit Blanc is mysteriously enlisted to investigate. From Harlan's dysfunctional family to his devoted staff, Blanc sifts through a web of red herrings and self-serving lies to uncover the truth behind Harlan's untimely death.\", 'popularity': 69.81, 'poster_path': '/pThyQovXQrw2m0s9x82twj48Jq4.jpg', 'release_date': '2019-11-27', 'title': 'Knives Out', 'video': False, 'vote_average': 7.846, 'vote_count': 12377}, {'adult': False, 'backdrop_path': '/4zTsF0RtO0av3YX1NaKDqGKPxYF.jpg', 'genre_ids': [28, 12, 14], 'id': 76338, 'original_language': 'en', 'original_title': 'Thor: The Dark World', 'overview': 'Thor fights to restore order across the cosmos… but an ancient race led by the vengeful Malekith returns to plunge the universe back into darkness. Faced with an enemy that even Odin and Asgard cannot withstand, Thor must embark on his most perilous and personal journey yet, one that will reunite him with Jane Foster and force him to sacrifice everything to save us all.', 'popularity': 61.391, 'poster_path': '/wp6OxE4poJ4G7c0U2ZIXasTSMR7.jpg', 'release_date': '2013-10-30', 'title': 'Thor: The Dark World', 'video': False, 'vote_average': 6.522, 'vote_count': 17243}, {'adult': False, 'backdrop_path': '/1K3JmSNUN8OpjYsCjc0Hy0SYxAb.jpg', 'genre_ids': [878, 28, 12], 'id': 102899, 'original_language': 'en', 'original_title': 'Ant-Man', 'overview': 'Armed with the astonishing ability to shrink in scale but increase in strength, master thief Scott Lang must embrace his inner-hero and help his mentor, Doctor Hank Pym, protect the secret behind his spectacular Ant-Man suit from a new generation of towering threats. Against seemingly insurmountable obstacles, Pym and Lang must plan and pull off a heist that will save the world.', 'popularity': 49.992, 'poster_path': '/rQRnQfUl3kfp78nCWq8Ks04vnq1.jpg', 'release_date': '2015-07-14', 'title': 'Ant-Man', 'video': False, 'vote_average': 7.076, 'vote_count': 19703}, {'adult': False, 'backdrop_path': '/yFuKvT4Vm3sKHdFY4eG6I4ldAnn.jpg', 'genre_ids': [28, 12, 878], 'id': 1771, 'original_language': 'en', 'original_title': 'Captain America: The First Avenger', 'overview': \"During World War II, Steve Rogers is a sickly man from Brooklyn who's transformed into super-soldier Captain America to aid in the war effort. Rogers must stop the Red Skull – Adolf Hitler's ruthless head of weaponry, and the leader of an organization that intends to use a mysterious device of untold powers for world domination.\", 'popularity': 48.85, 'poster_path': '/vSNxAJTlD0r02V9sPYpOjqDZXUK.jpg', 'release_date': '2011-07-22', 'title': 'Captain America: The First Avenger', 'video': False, 'vote_average': 7.001, 'vote_count': 21386}, {'adult': False, 'backdrop_path': '/lyf1jjoMD1Pe7KD6KKEqL4Owgeb.jpg', 'genre_ids': [35], 'id': 11397, 'original_language': 'en', 'original_title': 'Not Another Teen Movie', 'overview': \"On a bet, a gridiron hero at John Hughes High School sets out to turn a bespectacled plain Jane into a beautiful and popular prom queen in this outrageous send-up of the teen movies of the 1980s and '90s.\", 'popularity': 48.76, 'poster_path': '/9ZaGxvj1mqdKVLpSloq4mzS7SK6.jpg', 'release_date': '2001-12-07', 'title': 'Not Another Teen Movie', 'video': False, 'vote_average': 5.789, 'vote_count': 2065}, {'adult': False, 'backdrop_path': '/2u1YBNBlSwvBReyvI7i5z5ykQXP.jpg', 'genre_ids': [28, 53], 'id': 725201, 'original_language': 'en', 'original_title': 'The Gray Man', 'overview': \"When a shadowy CIA agent uncovers damning agency secrets, he's hunted across the globe by a sociopathic rogue operative who's put a bounty on his head.\", 'popularity': 48.692, 'poster_path': '/5Eom3JsXgQlCj6QIsGCwXkX7wyH.jpg', 'release_date': '2022-07-13', 'title': 'The Gray Man', 'video': False, 'vote_average': 6.955, 'vote_count': 3633}, {'adult': False, 'backdrop_path': '/qAzYK4YPSWDc7aa4R43LcwRIAyb.jpg', 'genre_ids': [28, 12, 878], 'id': 299537, 'original_language': 'en', 'original_title': 'Captain Marvel', 'overview': 'The story follows Carol Danvers as she becomes one of the universe’s most powerful heroes when Earth is caught in the middle of a galactic war between two alien races. Set in the 1990s, Captain Marvel is an all-new adventure from a previously unseen period in the history of the Marvel Cinematic Universe.', 'popularity': 43.942, 'poster_path': '/AtsgWhDnHTq68L0lLsUrCnM7TjG.jpg', 'release_date': '2019-03-06', 'title': 'Captain Marvel', 'video': False, 'vote_average': 6.814, 'vote_count': 15677}, {'adult': False, 'backdrop_path': '/q7wzH2vkcJnVrmoLMCFyo7U3yz2.jpg', 'genre_ids': [878, 12, 28], 'id': 1979, 'original_language': 'en', 'original_title': 'Fantastic Four: Rise of the Silver Surfer', 'overview': \"The Fantastic Four return to the big screen as a new and all powerful enemy threatens the Earth. The seemingly unstoppable 'Silver Surfer', but all is not what it seems and there are old and new enemies that pose a greater threat than the intrepid superheroes realize.\", 'popularity': 39.85, 'poster_path': '/1rxTraSO45jbvTrCeSvJ6RmOu1b.jpg', 'release_date': '2007-06-13', 'title': 'Fantastic Four: Rise of the Silver Surfer', 'video': False, 'vote_average': 5.609, 'vote_count': 7812}, {'adult': False, 'backdrop_path': '/6MmYsaK6poR8f4R8jsBnJBU5tfd.jpg', 'genre_ids': [18, 35], 'id': 400928, 'original_language': 'en', 'original_title': 'Gifted', 'overview': 'Frank, a single man raising his child prodigy niece Mary, is drawn into a custody battle with his mother.', 'popularity': 37.017, 'poster_path': '/7YB2YrMwIm1g8FyZtlvmVDfRnAT.jpg', 'release_date': '2017-04-07', 'title': 'Gifted', 'video': False, 'vote_average': 8.027, 'vote_count': 5494}, {'adult': False, 'backdrop_path': '/2WtZi4FdWntSAEDNBwuDSyhlGdc.jpg', 'genre_ids': [28, 35, 10749], 'id': 22538, 'original_language': 'en', 'original_title': 'Scott Pilgrim vs. the World', 'overview': 'As bass guitarist for a garage-rock band, Scott Pilgrim has never had trouble getting a girlfriend; usually, the problem is getting rid of them. But when Ramona Flowers skates into his heart, he finds she has the most troublesome baggage of all: an army of ex-boyfriends who will stop at nothing to eliminate him from her list of suitors.', 'popularity': 35.164, 'poster_path': '/g5IoYeudx9XBEfwNL0fHvSckLBz.jpg', 'release_date': '2010-08-12', 'title': 'Scott Pilgrim vs. the World', 'video': False, 'vote_average': 7.493, 'vote_count': 7844}], 'total_pages': 4, 'total_results': 61}"
      ]
     },
     "execution_count": 76,
     "metadata": {},
     "output_type": "execute_result"
    }
   ],
   "source": [
    "test.search_movie_by_actor_id(\"Chris Evans\")"
   ]
  },
  {
   "cell_type": "code",
   "execution_count": null,
   "metadata": {},
   "outputs": [
    {
     "data": {
      "text/plain": [
       "'27'"
      ]
     },
     "execution_count": 86,
     "metadata": {},
     "output_type": "execute_result"
    }
   ],
   "source": [
    "str(test.get_genre_id(\"Horror\"))\n"
   ]
  },
  {
   "cell_type": "code",
   "execution_count": 87,
   "metadata": {},
   "outputs": [
    {
     "name": "stdout",
     "output_type": "stream",
     "text": [
      "['REQUEST_CACHE_MAXSIZE', 'TMDB_API_KEY', 'TMDB_CACHE_ENABLED', 'TMDB_DEBUG_ENABLED', 'TMDB_LANGUAGE', 'TMDB_PROXIES', 'TMDB_SESSION_ID', 'TMDB_WAIT_ON_RATE_LIMIT', '__class__', '__delattr__', '__dict__', '__dir__', '__doc__', '__eq__', '__format__', '__ge__', '__getattribute__', '__getstate__', '__gt__', '__hash__', '__init__', '__init_subclass__', '__le__', '__lt__', '__module__', '__ne__', '__new__', '__reduce__', '__reduce_ex__', '__repr__', '__setattr__', '__sizeof__', '__str__', '__subclasshook__', '__weakref__', '_request_obj', '_session', '_urls', 'api_key', 'cache', 'cache_clear', 'cached_request', 'debug', 'discover_movies', 'discover_tv_shows', 'has_session', 'language', 'page', 'proxies', 'session_id', 'total_pages', 'total_results', 'wait_on_rate_limit']\n"
     ]
    }
   ],
   "source": [
    "print(dir(Discover))"
   ]
  },
  {
   "cell_type": "code",
   "execution_count": 91,
   "metadata": {},
   "outputs": [
    {
     "name": "stdout",
     "output_type": "stream",
     "text": [
      "    def discover_movies(self, params):\n",
      "        \"\"\"\n",
      "        Discover movies by different types of data like average rating, number of votes, genres and certifications.\n",
      "        :param params: dict\n",
      "        :return:\n",
      "        \"\"\"\n",
      "        return self._request_obj(self._urls[\"movies\"], urlencode(params), key=\"results\")\n",
      "\n"
     ]
    }
   ],
   "source": [
    "import inspect\n",
    "from tmdbv3api import Discover\n",
    "discover = Discover()\n",
    "\n",
    "print(inspect.getsource(discover.discover_movies))"
   ]
  },
  {
   "cell_type": "code",
   "execution_count": 102,
   "metadata": {},
   "outputs": [
    {
     "name": "stdout",
     "output_type": "stream",
     "text": [
      "Psycho\n",
      "The Shining\n",
      "Alien\n",
      "The Thing\n",
      "What Ever Happened to Baby Jane?\n",
      "Rosemary's Baby\n",
      "Freaks\n",
      "The Exorcist\n",
      "Black Swan\n",
      "Jaws\n",
      "The Tenant\n",
      "Get Out\n",
      "The Others\n",
      "Night of the Living Dead\n",
      "King Kong\n",
      "The Black Phone\n",
      "What We Do in the Shadows\n",
      "Halloween\n",
      "Evil Dead II\n",
      "Shaun of the Dead\n"
     ]
    }
   ],
   "source": [
    "m = test.get_movie_by_genre_id(\"Horror\")\n",
    "for movie in m:\n",
    "    print(f\"{movie[\"title\"]}\")"
   ]
  },
  {
   "cell_type": "code",
   "execution_count": 110,
   "metadata": {},
   "outputs": [
    {
     "ename": "IndentationError",
     "evalue": "unexpected indent (2595108745.py, line 25)",
     "output_type": "error",
     "traceback": [
      "\u001b[0;36m  Cell \u001b[0;32mIn[110], line 25\u001b[0;36m\u001b[0m\n\u001b[0;31m    if title_check:\u001b[0m\n\u001b[0m    ^\u001b[0m\n\u001b[0;31mIndentationError\u001b[0m\u001b[0;31m:\u001b[0m unexpected indent\n"
     ]
    }
   ],
   "source": [
    "if genre_check:\n",
    "    if selgen != \"Select\":\n",
    "        moviesbygenre = Instance.get_movie_by_genre_id(selgen)            \n",
    "        for movie in moviesbygenre:\n",
    "            st.write(f\"{movie[\"title\"]}\")\n",
    "                \n",
    " \n",
    "\n",
    "if actor_check:     \n",
    "    if selactor:\n",
    "        moviefound = Instance.search_movie_by_actors(selactor)\n",
    "        if moviefound:\n",
    "            for movie in moviefound:\n",
    "                st.write(f\"{movie[\"title\"]}\")\n",
    "        else: \n",
    "            st.write(\"Couldn't find movies for this actor\")\n",
    "\n",
    "if title_check:\n",
    "   if title_input:\n",
    "        movies = Instance.search_movie_title(search_query)\n",
    "        for movie in movies:\n",
    "            st.write(f\"{movie['title']}\")\n",
    "\n",
    "title_check = st.checkbox(\"Title\")\n",
    "    if title_check:\n",
    "        title_input = st.text_input(\"Write the Title\", value = None)\n",
    "        if title_input:\n",
    "            global search_query\n",
    "            search_query = str(title_input)"
   ]
  },
  {
   "cell_type": "code",
   "execution_count": 106,
   "metadata": {},
   "outputs": [
    {
     "ename": "SyntaxError",
     "evalue": "invalid syntax (3462875524.py, line 1)",
     "output_type": "error",
     "traceback": [
      "\u001b[0;36m  Cell \u001b[0;32mIn[106], line 1\u001b[0;36m\u001b[0m\n\u001b[0;31m    if 1 == 1 and 2 not 1:\u001b[0m\n\u001b[0m                        ^\u001b[0m\n\u001b[0;31mSyntaxError\u001b[0m\u001b[0;31m:\u001b[0m invalid syntax\n"
     ]
    }
   ],
   "source": [
    "if 1 == 1 and 2 not 1:\n",
    "    print(\"heheheh\")"
   ]
  },
  {
   "cell_type": "code",
   "execution_count": 109,
   "metadata": {},
   "outputs": [
    {
     "ename": "AttributeError",
     "evalue": "'str' object has no attribute 'id'",
     "output_type": "error",
     "traceback": [
      "\u001b[0;31m---------------------------------------------------------------------------\u001b[0m",
      "\u001b[0;31mAttributeError\u001b[0m                            Traceback (most recent call last)",
      "Cell \u001b[0;32mIn[109], line 2\u001b[0m\n\u001b[1;32m      1\u001b[0m keyword \u001b[38;5;241m=\u001b[39m \u001b[38;5;124m\"\u001b[39m\u001b[38;5;124mmagic\u001b[39m\u001b[38;5;124m\"\u001b[39m\n\u001b[0;32m----> 2\u001b[0m keyword\u001b[38;5;241m.\u001b[39mid\n",
      "\u001b[0;31mAttributeError\u001b[0m: 'str' object has no attribute 'id'"
     ]
    }
   ],
   "source": [
    "keyword = \"magic\"\n",
    "keyword.id"
   ]
  },
  {
   "cell_type": "code",
   "execution_count": null,
   "metadata": {},
   "outputs": [],
   "source": []
  }
 ],
 "metadata": {
  "kernelspec": {
   "display_name": "base",
   "language": "python",
   "name": "python3"
  },
  "language_info": {
   "codemirror_mode": {
    "name": "ipython",
    "version": 3
   },
   "file_extension": ".py",
   "mimetype": "text/x-python",
   "name": "python",
   "nbconvert_exporter": "python",
   "pygments_lexer": "ipython3",
   "version": "3.12.4"
  }
 },
 "nbformat": 4,
 "nbformat_minor": 4
}
